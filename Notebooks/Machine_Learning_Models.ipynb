{
  "cells": [
    {
      "cell_type": "code",
      "execution_count": null,
      "metadata": {
        "colab": {
          "base_uri": "https://localhost:8080/"
        },
        "id": "S-BfIfY-eFGs",
        "outputId": "f03a2ce2-c512-49c0-c441-c645776e4f33"
      },
      "outputs": [
        {
          "output_type": "stream",
          "name": "stdout",
          "text": [
            "Requirement already satisfied: imbalanced-learn in /usr/local/lib/python3.7/dist-packages (0.8.1)\n",
            "Requirement already satisfied: scikit-learn>=0.24 in /usr/local/lib/python3.7/dist-packages (from imbalanced-learn) (1.0.2)\n",
            "Requirement already satisfied: scipy>=0.19.1 in /usr/local/lib/python3.7/dist-packages (from imbalanced-learn) (1.4.1)\n",
            "Requirement already satisfied: joblib>=0.11 in /usr/local/lib/python3.7/dist-packages (from imbalanced-learn) (1.1.0)\n",
            "Requirement already satisfied: numpy>=1.13.3 in /usr/local/lib/python3.7/dist-packages (from imbalanced-learn) (1.21.6)\n",
            "Requirement already satisfied: threadpoolctl>=2.0.0 in /usr/local/lib/python3.7/dist-packages (from scikit-learn>=0.24->imbalanced-learn) (3.1.0)\n"
          ]
        }
      ],
      "source": [
        "!pip install imbalanced-learn"
      ]
    },
    {
      "cell_type": "code",
      "execution_count": null,
      "metadata": {
        "id": "-LaFv39LPMpc"
      },
      "outputs": [],
      "source": [
        "from sklearn.model_selection import train_test_split, cross_val_score\n",
        "from keras.layers import Dense, Dropout, BatchNormalization\n",
        "from sklearn.linear_model import LogisticRegression\n",
        "from sklearn.ensemble import RandomForestClassifier\n",
        "from keras.models import Sequential, clone_model\n",
        "from sklearn.metrics import confusion_matrix\n",
        "from tensorflow.keras.optimizers import Adam\n",
        "from sklearn.metrics import confusion_matrix\n",
        "from sklearn.model_selection import KFold\n",
        "from imblearn.over_sampling import SMOTE\n",
        "from xgboost import XGBClassifier\n",
        "import matplotlib.pyplot as plt\n",
        "import seaborn as sb\n",
        "import pandas as pd\n",
        "import numpy as np"
      ]
    },
    {
      "cell_type": "code",
      "execution_count": null,
      "metadata": {
        "colab": {
          "base_uri": "https://localhost:8080/"
        },
        "id": "FFcLQTG_QNIU",
        "outputId": "8aece0ac-8bee-4469-d2c6-21fd0aac190d"
      },
      "outputs": [
        {
          "output_type": "stream",
          "name": "stdout",
          "text": [
            "Mounted at /content/gdrive\n"
          ]
        }
      ],
      "source": [
        "from google.colab import drive\n",
        "drive.mount('/content/gdrive') "
      ]
    },
    {
      "cell_type": "code",
      "execution_count": null,
      "metadata": {
        "id": "ho9TbA4CQv5c"
      },
      "outputs": [],
      "source": [
        "df = pd.read_csv(\"gdrive/My Drive/stroke_cat.csv\")\n",
        "X_train, X_test, y_train, y_test = train_test_split(df.iloc[:,:-1], df['stroke'], test_size=0.20, random_state=42)"
      ]
    },
    {
      "cell_type": "code",
      "execution_count": null,
      "metadata": {
        "id": "JE8Z373jPRRh"
      },
      "outputs": [],
      "source": [
        "sm = SMOTE()\n",
        "X, y  = sm.fit_resample(X_train, y_train)"
      ]
    },
    {
      "cell_type": "code",
      "execution_count": null,
      "metadata": {
        "id": "0AOFB6CLPVV-"
      },
      "outputs": [],
      "source": [
        "def f1_score(y_test, preds):\n",
        "    cm = confusion_matrix(y_test, preds)\n",
        "    return cm[0][0] / (cm[0][0] + 0.5 *(cm[0][1] + cm[1][0]))"
      ]
    },
    {
      "cell_type": "code",
      "execution_count": null,
      "metadata": {
        "id": "XgABNyfuRQMR"
      },
      "outputs": [],
      "source": [
        "def pred_acc(y_test, preds):\n",
        "    y_test = y_test.tolist()\n",
        "    score = 0\n",
        "\n",
        "    for i in range(len(preds)):\n",
        "        if preds[i] == y_test[i]:\n",
        "            score += 1\n",
        "    \n",
        "    return score / len(preds)"
      ]
    },
    {
      "cell_type": "code",
      "execution_count": null,
      "metadata": {
        "id": "bGNfIyK4e-mF"
      },
      "outputs": [],
      "source": [
        "def plot_confusion_matrix(y_test, preds):\n",
        "    sb.heatmap(confusion_matrix(y_test, preds), annot = True, cmap = \"viridis\", fmt = \"2\")\n",
        "    plt.show()"
      ]
    },
    {
      "cell_type": "markdown",
      "metadata": {
        "id": "zutKZ2SluRQr"
      },
      "source": [
        "# **ARTIFICIAL NEURAL NETWORK**"
      ]
    },
    {
      "cell_type": "code",
      "execution_count": null,
      "metadata": {
        "id": "lj4_ayfAjULP"
      },
      "outputs": [],
      "source": [
        "def ann_model():\n",
        "    ann = Sequential()\n",
        "\n",
        "    ann.add(Dense(128, input_dim=X_train.shape[1], activation='relu'))\n",
        "    ann.add(Dropout(0.1))\n",
        "    ann.add(BatchNormalization())\n",
        "\n",
        "    ann.add(Dense(64, activation='relu'))\n",
        "    ann.add(Dropout(0.1))\n",
        "    ann.add(BatchNormalization())\n",
        "\n",
        "    ann.add(Dense(32, activation='relu'))\n",
        "    ann.add(Dropout(0.1))\n",
        "    ann.add(BatchNormalization())\n",
        "\n",
        "    ann.add(Dense(16, activation='relu'))\n",
        "    ann.add(Dropout(0.1))\n",
        "\n",
        "    ann.add(Dense(1, activation='sigmoid'))\n",
        "\n",
        "    opt = Adam(learning_rate=0.000001)\n",
        "\n",
        "    ann.compile(loss='binary_crossentropy', optimizer=opt, metrics=['accuracy'])\n",
        "\n",
        "    return ann"
      ]
    },
    {
      "cell_type": "code",
      "execution_count": null,
      "metadata": {
        "id": "gGfujp-nPTzJ"
      },
      "outputs": [],
      "source": [
        "ann_smote = ann_model()\n",
        "ann_no_smote = ann_model()"
      ]
    },
    {
      "cell_type": "code",
      "execution_count": null,
      "metadata": {
        "colab": {
          "base_uri": "https://localhost:8080/",
          "height": 1000
        },
        "id": "g5bc1u63SFQP",
        "outputId": "3988c483-7fe8-498f-d93a-d2841bb408b1"
      },
      "outputs": [
        {
          "output_type": "stream",
          "name": "stdout",
          "text": [
            "Epoch 1/100\n",
            "943/943 [==============================] - 12s 7ms/step - loss: 0.7620 - accuracy: 0.5110 - val_loss: 1.0261 - val_accuracy: 0.6711\n",
            "Epoch 2/100\n",
            "943/943 [==============================] - 6s 6ms/step - loss: 0.7559 - accuracy: 0.5122 - val_loss: 1.0174 - val_accuracy: 0.6660\n",
            "Epoch 3/100\n",
            "943/943 [==============================] - 4s 4ms/step - loss: 0.7485 - accuracy: 0.5292 - val_loss: 0.9980 - val_accuracy: 0.6721\n",
            "Epoch 4/100\n",
            "943/943 [==============================] - 3s 3ms/step - loss: 0.7390 - accuracy: 0.5305 - val_loss: 0.9601 - val_accuracy: 0.6853\n",
            "Epoch 5/100\n",
            "943/943 [==============================] - 3s 3ms/step - loss: 0.7357 - accuracy: 0.5382 - val_loss: 0.9388 - val_accuracy: 0.6894\n",
            "Epoch 6/100\n",
            "943/943 [==============================] - 3s 3ms/step - loss: 0.7261 - accuracy: 0.5467 - val_loss: 0.9729 - val_accuracy: 0.6690\n",
            "Epoch 7/100\n",
            "943/943 [==============================] - 3s 3ms/step - loss: 0.7265 - accuracy: 0.5506 - val_loss: 0.9674 - val_accuracy: 0.7006\n",
            "Epoch 8/100\n",
            "943/943 [==============================] - 3s 3ms/step - loss: 0.7139 - accuracy: 0.5642 - val_loss: 0.9302 - val_accuracy: 0.6986\n",
            "Epoch 9/100\n",
            "943/943 [==============================] - 3s 3ms/step - loss: 0.7117 - accuracy: 0.5650 - val_loss: 0.9266 - val_accuracy: 0.7077\n",
            "Epoch 10/100\n",
            "943/943 [==============================] - 3s 3ms/step - loss: 0.7038 - accuracy: 0.5786 - val_loss: 0.9072 - val_accuracy: 0.7179\n",
            "Epoch 11/100\n",
            "943/943 [==============================] - 3s 3ms/step - loss: 0.7075 - accuracy: 0.5823 - val_loss: 0.9498 - val_accuracy: 0.7200\n",
            "Epoch 12/100\n",
            "943/943 [==============================] - 3s 3ms/step - loss: 0.6968 - accuracy: 0.5891 - val_loss: 0.9139 - val_accuracy: 0.7108\n",
            "Epoch 13/100\n",
            "943/943 [==============================] - 3s 3ms/step - loss: 0.6951 - accuracy: 0.5890 - val_loss: 0.8969 - val_accuracy: 0.7138\n",
            "Epoch 14/100\n",
            "943/943 [==============================] - 3s 3ms/step - loss: 0.6953 - accuracy: 0.5878 - val_loss: 0.9195 - val_accuracy: 0.7077\n",
            "Epoch 15/100\n",
            "943/943 [==============================] - 3s 3ms/step - loss: 0.6820 - accuracy: 0.6020 - val_loss: 0.8968 - val_accuracy: 0.7281\n",
            "Epoch 16/100\n",
            "943/943 [==============================] - 3s 3ms/step - loss: 0.6817 - accuracy: 0.6042 - val_loss: 0.8636 - val_accuracy: 0.7261\n",
            "Epoch 17/100\n",
            "943/943 [==============================] - 3s 3ms/step - loss: 0.6846 - accuracy: 0.5997 - val_loss: 0.8882 - val_accuracy: 0.7413\n",
            "Epoch 18/100\n",
            "943/943 [==============================] - 3s 3ms/step - loss: 0.6772 - accuracy: 0.6128 - val_loss: 0.9063 - val_accuracy: 0.7373\n",
            "Epoch 19/100\n",
            "943/943 [==============================] - 3s 3ms/step - loss: 0.6743 - accuracy: 0.6122 - val_loss: 0.8594 - val_accuracy: 0.7342\n",
            "Epoch 20/100\n",
            "943/943 [==============================] - 3s 3ms/step - loss: 0.6706 - accuracy: 0.6183 - val_loss: 0.8899 - val_accuracy: 0.7485\n",
            "Epoch 21/100\n",
            "943/943 [==============================] - 3s 3ms/step - loss: 0.6675 - accuracy: 0.6211 - val_loss: 0.8859 - val_accuracy: 0.7444\n",
            "Epoch 22/100\n",
            "943/943 [==============================] - 3s 3ms/step - loss: 0.6578 - accuracy: 0.6334 - val_loss: 0.8138 - val_accuracy: 0.7464\n",
            "Epoch 23/100\n",
            "943/943 [==============================] - 3s 3ms/step - loss: 0.6642 - accuracy: 0.6337 - val_loss: 0.8333 - val_accuracy: 0.7464\n",
            "Epoch 24/100\n",
            "943/943 [==============================] - 3s 3ms/step - loss: 0.6468 - accuracy: 0.6537 - val_loss: 0.8295 - val_accuracy: 0.7363\n",
            "Epoch 25/100\n",
            "943/943 [==============================] - 3s 3ms/step - loss: 0.6577 - accuracy: 0.6356 - val_loss: 0.8052 - val_accuracy: 0.7617\n",
            "Epoch 26/100\n",
            "943/943 [==============================] - 3s 3ms/step - loss: 0.6547 - accuracy: 0.6367 - val_loss: 0.7825 - val_accuracy: 0.7515\n",
            "Epoch 27/100\n",
            "943/943 [==============================] - 3s 3ms/step - loss: 0.6547 - accuracy: 0.6424 - val_loss: 0.8321 - val_accuracy: 0.7403\n",
            "Epoch 28/100\n",
            "943/943 [==============================] - 3s 3ms/step - loss: 0.6429 - accuracy: 0.6506 - val_loss: 0.8435 - val_accuracy: 0.7546\n",
            "Epoch 29/100\n",
            "943/943 [==============================] - 3s 3ms/step - loss: 0.6411 - accuracy: 0.6527 - val_loss: 0.8100 - val_accuracy: 0.7566\n",
            "Epoch 30/100\n",
            "943/943 [==============================] - 3s 3ms/step - loss: 0.6368 - accuracy: 0.6563 - val_loss: 0.7698 - val_accuracy: 0.7627\n",
            "Epoch 31/100\n",
            "943/943 [==============================] - 3s 3ms/step - loss: 0.6355 - accuracy: 0.6594 - val_loss: 0.8010 - val_accuracy: 0.7699\n",
            "Epoch 32/100\n",
            "943/943 [==============================] - 3s 3ms/step - loss: 0.6377 - accuracy: 0.6584 - val_loss: 0.7975 - val_accuracy: 0.7709\n",
            "Epoch 33/100\n",
            "943/943 [==============================] - 3s 3ms/step - loss: 0.6342 - accuracy: 0.6612 - val_loss: 0.7481 - val_accuracy: 0.7709\n",
            "Epoch 34/100\n",
            "943/943 [==============================] - 3s 3ms/step - loss: 0.6325 - accuracy: 0.6624 - val_loss: 0.7991 - val_accuracy: 0.7597\n",
            "Epoch 35/100\n",
            "943/943 [==============================] - 7s 8ms/step - loss: 0.6306 - accuracy: 0.6632 - val_loss: 0.7806 - val_accuracy: 0.7607\n",
            "Epoch 36/100\n",
            "943/943 [==============================] - 6s 7ms/step - loss: 0.6273 - accuracy: 0.6676 - val_loss: 0.7760 - val_accuracy: 0.7648\n",
            "Epoch 37/100\n",
            "943/943 [==============================] - 6s 6ms/step - loss: 0.6265 - accuracy: 0.6684 - val_loss: 0.7481 - val_accuracy: 0.7933\n",
            "Epoch 38/100\n",
            "943/943 [==============================] - 3s 3ms/step - loss: 0.6172 - accuracy: 0.6769 - val_loss: 0.7675 - val_accuracy: 0.7933\n",
            "Epoch 39/100\n",
            "943/943 [==============================] - 3s 3ms/step - loss: 0.6191 - accuracy: 0.6733 - val_loss: 0.7389 - val_accuracy: 0.7851\n",
            "Epoch 40/100\n",
            "943/943 [==============================] - 3s 3ms/step - loss: 0.6175 - accuracy: 0.6782 - val_loss: 0.7170 - val_accuracy: 0.7841\n",
            "Epoch 41/100\n",
            "943/943 [==============================] - 3s 3ms/step - loss: 0.6149 - accuracy: 0.6782 - val_loss: 0.7544 - val_accuracy: 0.7811\n",
            "Epoch 42/100\n",
            "943/943 [==============================] - 3s 3ms/step - loss: 0.6150 - accuracy: 0.6820 - val_loss: 0.7351 - val_accuracy: 0.7984\n",
            "Epoch 43/100\n",
            "943/943 [==============================] - 3s 4ms/step - loss: 0.6128 - accuracy: 0.6794 - val_loss: 0.7721 - val_accuracy: 0.7872\n",
            "Epoch 44/100\n",
            "943/943 [==============================] - 3s 3ms/step - loss: 0.6110 - accuracy: 0.6864 - val_loss: 0.7443 - val_accuracy: 0.7760\n",
            "Epoch 45/100\n",
            "943/943 [==============================] - 3s 3ms/step - loss: 0.6049 - accuracy: 0.6823 - val_loss: 0.7201 - val_accuracy: 0.7719\n",
            "Epoch 46/100\n",
            "943/943 [==============================] - 3s 3ms/step - loss: 0.6126 - accuracy: 0.6771 - val_loss: 0.7310 - val_accuracy: 0.7963\n",
            "Epoch 47/100\n",
            "943/943 [==============================] - 3s 3ms/step - loss: 0.6085 - accuracy: 0.6822 - val_loss: 0.7249 - val_accuracy: 0.7923\n",
            "Epoch 48/100\n",
            "943/943 [==============================] - 3s 3ms/step - loss: 0.6058 - accuracy: 0.6818 - val_loss: 0.7720 - val_accuracy: 0.7963\n",
            "Epoch 49/100\n",
            "943/943 [==============================] - 3s 3ms/step - loss: 0.6127 - accuracy: 0.6844 - val_loss: 0.7038 - val_accuracy: 0.7790\n",
            "Epoch 50/100\n",
            "943/943 [==============================] - 3s 3ms/step - loss: 0.6122 - accuracy: 0.6767 - val_loss: 0.7180 - val_accuracy: 0.8045\n",
            "Epoch 51/100\n",
            "943/943 [==============================] - 3s 3ms/step - loss: 0.6046 - accuracy: 0.6891 - val_loss: 0.6838 - val_accuracy: 0.7872\n",
            "Epoch 52/100\n",
            "943/943 [==============================] - 3s 3ms/step - loss: 0.6016 - accuracy: 0.6974 - val_loss: 0.6980 - val_accuracy: 0.7974\n",
            "Epoch 53/100\n",
            "943/943 [==============================] - 3s 3ms/step - loss: 0.5976 - accuracy: 0.6961 - val_loss: 0.6778 - val_accuracy: 0.7912\n",
            "Epoch 54/100\n",
            "943/943 [==============================] - 3s 3ms/step - loss: 0.6027 - accuracy: 0.6916 - val_loss: 0.7083 - val_accuracy: 0.8004\n",
            "Epoch 55/100\n",
            "943/943 [==============================] - 3s 3ms/step - loss: 0.5981 - accuracy: 0.6932 - val_loss: 0.7122 - val_accuracy: 0.7923\n",
            "Epoch 56/100\n",
            "943/943 [==============================] - 3s 3ms/step - loss: 0.5919 - accuracy: 0.6981 - val_loss: 0.6843 - val_accuracy: 0.7963\n",
            "Epoch 57/100\n",
            "943/943 [==============================] - 3s 3ms/step - loss: 0.5984 - accuracy: 0.6921 - val_loss: 0.6739 - val_accuracy: 0.7963\n",
            "Epoch 58/100\n",
            "943/943 [==============================] - 3s 3ms/step - loss: 0.5971 - accuracy: 0.6961 - val_loss: 0.6928 - val_accuracy: 0.7953\n",
            "Epoch 59/100\n",
            "943/943 [==============================] - 3s 3ms/step - loss: 0.6021 - accuracy: 0.6956 - val_loss: 0.6948 - val_accuracy: 0.7974\n",
            "Epoch 60/100\n",
            "943/943 [==============================] - 3s 4ms/step - loss: 0.5942 - accuracy: 0.7003 - val_loss: 0.6724 - val_accuracy: 0.8086\n",
            "Epoch 61/100\n",
            "943/943 [==============================] - 4s 4ms/step - loss: 0.5930 - accuracy: 0.6950 - val_loss: 0.6680 - val_accuracy: 0.8014\n",
            "Epoch 62/100\n",
            "943/943 [==============================] - 3s 3ms/step - loss: 0.5852 - accuracy: 0.7060 - val_loss: 0.6613 - val_accuracy: 0.8065\n",
            "Epoch 63/100\n",
            "943/943 [==============================] - 3s 3ms/step - loss: 0.5891 - accuracy: 0.6969 - val_loss: 0.6999 - val_accuracy: 0.7953\n",
            "Epoch 64/100\n",
            "943/943 [==============================] - 3s 3ms/step - loss: 0.5924 - accuracy: 0.6921 - val_loss: 0.6737 - val_accuracy: 0.8045\n",
            "Epoch 65/100\n",
            "943/943 [==============================] - 3s 3ms/step - loss: 0.5954 - accuracy: 0.6911 - val_loss: 0.7011 - val_accuracy: 0.8045\n",
            "Epoch 66/100\n",
            "943/943 [==============================] - 4s 4ms/step - loss: 0.5802 - accuracy: 0.7099 - val_loss: 0.6715 - val_accuracy: 0.8004\n",
            "Epoch 67/100\n",
            "943/943 [==============================] - 3s 3ms/step - loss: 0.5872 - accuracy: 0.7030 - val_loss: 0.6680 - val_accuracy: 0.8065\n",
            "Epoch 68/100\n",
            "943/943 [==============================] - 3s 3ms/step - loss: 0.5817 - accuracy: 0.7033 - val_loss: 0.6370 - val_accuracy: 0.8126\n",
            "Epoch 69/100\n",
            "943/943 [==============================] - 3s 3ms/step - loss: 0.5862 - accuracy: 0.6958 - val_loss: 0.6499 - val_accuracy: 0.7974\n",
            "Epoch 70/100\n",
            "943/943 [==============================] - 3s 3ms/step - loss: 0.5831 - accuracy: 0.7088 - val_loss: 0.6400 - val_accuracy: 0.8035\n",
            "Epoch 71/100\n",
            "943/943 [==============================] - 3s 3ms/step - loss: 0.5906 - accuracy: 0.7010 - val_loss: 0.6581 - val_accuracy: 0.8106\n",
            "Epoch 72/100\n",
            "943/943 [==============================] - 3s 3ms/step - loss: 0.5797 - accuracy: 0.7049 - val_loss: 0.6600 - val_accuracy: 0.8035\n",
            "Epoch 73/100\n",
            "943/943 [==============================] - 3s 4ms/step - loss: 0.5824 - accuracy: 0.7022 - val_loss: 0.6496 - val_accuracy: 0.8024\n",
            "Epoch 74/100\n",
            "943/943 [==============================] - 3s 3ms/step - loss: 0.5863 - accuracy: 0.7017 - val_loss: 0.6432 - val_accuracy: 0.8096\n",
            "Epoch 75/100\n",
            "943/943 [==============================] - 3s 3ms/step - loss: 0.5700 - accuracy: 0.7112 - val_loss: 0.6174 - val_accuracy: 0.8106\n",
            "Epoch 76/100\n",
            "943/943 [==============================] - 3s 3ms/step - loss: 0.5782 - accuracy: 0.7079 - val_loss: 0.6161 - val_accuracy: 0.7994\n",
            "Epoch 77/100\n",
            "943/943 [==============================] - 3s 3ms/step - loss: 0.5821 - accuracy: 0.6990 - val_loss: 0.6169 - val_accuracy: 0.8096\n",
            "Epoch 78/100\n",
            "943/943 [==============================] - 3s 3ms/step - loss: 0.5775 - accuracy: 0.7018 - val_loss: 0.6413 - val_accuracy: 0.7923\n",
            "Epoch 79/100\n",
            "943/943 [==============================] - 3s 3ms/step - loss: 0.5740 - accuracy: 0.7084 - val_loss: 0.6608 - val_accuracy: 0.8035\n",
            "Epoch 80/100\n",
            "943/943 [==============================] - 3s 3ms/step - loss: 0.5724 - accuracy: 0.7092 - val_loss: 0.6626 - val_accuracy: 0.7953\n",
            "Epoch 81/100\n",
            "943/943 [==============================] - 3s 3ms/step - loss: 0.5813 - accuracy: 0.7102 - val_loss: 0.6493 - val_accuracy: 0.7953\n",
            "Epoch 82/100\n",
            "943/943 [==============================] - 3s 3ms/step - loss: 0.5736 - accuracy: 0.7070 - val_loss: 0.6217 - val_accuracy: 0.8045\n",
            "Epoch 83/100\n",
            "943/943 [==============================] - 3s 3ms/step - loss: 0.5746 - accuracy: 0.7136 - val_loss: 0.6347 - val_accuracy: 0.8014\n",
            "Epoch 84/100\n",
            "943/943 [==============================] - 3s 3ms/step - loss: 0.5724 - accuracy: 0.7072 - val_loss: 0.5732 - val_accuracy: 0.8086\n",
            "Epoch 85/100\n",
            "943/943 [==============================] - 3s 3ms/step - loss: 0.5770 - accuracy: 0.7072 - val_loss: 0.6047 - val_accuracy: 0.8055\n",
            "Epoch 86/100\n",
            "943/943 [==============================] - 3s 3ms/step - loss: 0.5686 - accuracy: 0.7148 - val_loss: 0.6145 - val_accuracy: 0.8055\n",
            "Epoch 87/100\n",
            "943/943 [==============================] - 3s 3ms/step - loss: 0.5734 - accuracy: 0.7002 - val_loss: 0.6360 - val_accuracy: 0.8055\n",
            "Epoch 88/100\n",
            "943/943 [==============================] - 3s 3ms/step - loss: 0.5767 - accuracy: 0.7083 - val_loss: 0.6040 - val_accuracy: 0.8045\n",
            "Epoch 89/100\n",
            "943/943 [==============================] - 3s 3ms/step - loss: 0.5771 - accuracy: 0.7095 - val_loss: 0.6387 - val_accuracy: 0.8024\n",
            "Epoch 90/100\n",
            "943/943 [==============================] - 3s 3ms/step - loss: 0.5717 - accuracy: 0.7053 - val_loss: 0.5888 - val_accuracy: 0.7984\n",
            "Epoch 91/100\n",
            "943/943 [==============================] - 3s 3ms/step - loss: 0.5768 - accuracy: 0.7013 - val_loss: 0.6054 - val_accuracy: 0.7882\n",
            "Epoch 92/100\n",
            "943/943 [==============================] - 3s 3ms/step - loss: 0.5669 - accuracy: 0.7092 - val_loss: 0.6190 - val_accuracy: 0.8004\n",
            "Epoch 93/100\n",
            "943/943 [==============================] - 3s 4ms/step - loss: 0.5681 - accuracy: 0.7098 - val_loss: 0.6575 - val_accuracy: 0.7994\n",
            "Epoch 94/100\n",
            "943/943 [==============================] - 3s 3ms/step - loss: 0.5643 - accuracy: 0.7141 - val_loss: 0.6290 - val_accuracy: 0.8075\n",
            "Epoch 95/100\n",
            "943/943 [==============================] - 3s 3ms/step - loss: 0.5714 - accuracy: 0.7125 - val_loss: 0.5931 - val_accuracy: 0.8086\n",
            "Epoch 96/100\n",
            "943/943 [==============================] - 3s 3ms/step - loss: 0.5633 - accuracy: 0.7133 - val_loss: 0.6210 - val_accuracy: 0.7974\n",
            "Epoch 97/100\n",
            "943/943 [==============================] - 3s 3ms/step - loss: 0.5630 - accuracy: 0.7110 - val_loss: 0.5773 - val_accuracy: 0.8106\n",
            "Epoch 98/100\n",
            "943/943 [==============================] - 3s 3ms/step - loss: 0.5692 - accuracy: 0.7128 - val_loss: 0.5981 - val_accuracy: 0.8198\n",
            "Epoch 99/100\n",
            "943/943 [==============================] - 3s 3ms/step - loss: 0.5664 - accuracy: 0.7178 - val_loss: 0.5963 - val_accuracy: 0.8045\n",
            "Epoch 100/100\n",
            "943/943 [==============================] - 3s 4ms/step - loss: 0.5646 - accuracy: 0.7144 - val_loss: 0.5741 - val_accuracy: 0.8055\n"
          ]
        },
        {
          "output_type": "display_data",
          "data": {
            "text/plain": [
              "<Figure size 432x288 with 1 Axes>"
            ],
            "image/png": "[encoded data removed]"
          },
          "metadata": {
            "needs_background": "light"
          }
        }
      ],
      "source": [
        "history = ann_smote.fit(X, y, epochs=100, batch_size=8, validation_data=(X_test,y_test))\n",
        "plt.plot(history.history['accuracy'])\n",
        "plt.plot(history.history['val_accuracy'])\n",
        "plt.title('model accuracy (SMOTE)')\n",
        "plt.ylabel('accuracy')\n",
        "plt.xlabel('epoch')\n",
        "plt.legend(['train', 'val_acc'], loc='upper left')\n",
        "plt.show()"
      ]
    },
    {
      "cell_type": "code",
      "execution_count": null,
      "metadata": {
        "colab": {
          "base_uri": "https://localhost:8080/",
          "height": 1000
        },
        "id": "1khVuCflivnq",
        "outputId": "88f5262d-8a31-42f8-a1fe-f724e85fa7e0"
      },
      "outputs": [
        {
          "output_type": "stream",
          "name": "stdout",
          "text": [
            "Epoch 1/100\n",
            "491/491 [==============================] - 3s 4ms/step - loss: 0.4030 - accuracy: 0.8737 - val_loss: 0.4557 - val_accuracy: 0.8605\n",
            "Epoch 2/100\n",
            "491/491 [==============================] - 2s 3ms/step - loss: 0.4098 - accuracy: 0.8739 - val_loss: 0.4551 - val_accuracy: 0.8666\n",
            "Epoch 3/100\n",
            "491/491 [==============================] - 2s 3ms/step - loss: 0.4057 - accuracy: 0.8739 - val_loss: 0.4496 - val_accuracy: 0.8717\n",
            "Epoch 4/100\n",
            "491/491 [==============================] - 2s 3ms/step - loss: 0.3972 - accuracy: 0.8857 - val_loss: 0.4422 - val_accuracy: 0.8697\n",
            "Epoch 5/100\n",
            "491/491 [==============================] - 2s 4ms/step - loss: 0.4018 - accuracy: 0.8831 - val_loss: 0.4403 - val_accuracy: 0.8768\n",
            "Epoch 6/100\n",
            "491/491 [==============================] - 2s 3ms/step - loss: 0.3988 - accuracy: 0.8829 - val_loss: 0.4317 - val_accuracy: 0.8870\n",
            "Epoch 7/100\n",
            "491/491 [==============================] - 2s 3ms/step - loss: 0.3946 - accuracy: 0.8887 - val_loss: 0.4417 - val_accuracy: 0.8788\n",
            "Epoch 8/100\n",
            "491/491 [==============================] - 2s 3ms/step - loss: 0.3913 - accuracy: 0.8938 - val_loss: 0.4442 - val_accuracy: 0.8788\n",
            "Epoch 9/100\n",
            "491/491 [==============================] - 2s 3ms/step - loss: 0.3945 - accuracy: 0.8859 - val_loss: 0.4213 - val_accuracy: 0.8971\n",
            "Epoch 10/100\n",
            "491/491 [==============================] - 2s 3ms/step - loss: 0.3810 - accuracy: 0.8928 - val_loss: 0.4251 - val_accuracy: 0.8900\n",
            "Epoch 11/100\n",
            "491/491 [==============================] - 2s 3ms/step - loss: 0.3895 - accuracy: 0.8902 - val_loss: 0.4307 - val_accuracy: 0.8931\n",
            "Epoch 12/100\n",
            "491/491 [==============================] - 2s 3ms/step - loss: 0.3847 - accuracy: 0.8933 - val_loss: 0.4249 - val_accuracy: 0.8971\n",
            "Epoch 13/100\n",
            "491/491 [==============================] - 2s 4ms/step - loss: 0.3873 - accuracy: 0.8910 - val_loss: 0.4111 - val_accuracy: 0.9043\n",
            "Epoch 14/100\n",
            "491/491 [==============================] - 2s 4ms/step - loss: 0.3761 - accuracy: 0.8989 - val_loss: 0.4135 - val_accuracy: 0.9043\n",
            "Epoch 15/100\n",
            "491/491 [==============================] - 2s 3ms/step - loss: 0.3773 - accuracy: 0.8981 - val_loss: 0.4199 - val_accuracy: 0.8961\n",
            "Epoch 16/100\n",
            "491/491 [==============================] - 2s 3ms/step - loss: 0.3765 - accuracy: 0.9020 - val_loss: 0.4102 - val_accuracy: 0.9104\n",
            "Epoch 17/100\n",
            "491/491 [==============================] - 2s 4ms/step - loss: 0.3700 - accuracy: 0.8981 - val_loss: 0.4115 - val_accuracy: 0.9043\n",
            "Epoch 18/100\n",
            "491/491 [==============================] - 2s 4ms/step - loss: 0.3706 - accuracy: 0.9081 - val_loss: 0.4146 - val_accuracy: 0.9053\n",
            "Epoch 19/100\n",
            "491/491 [==============================] - 2s 4ms/step - loss: 0.3700 - accuracy: 0.9022 - val_loss: 0.4014 - val_accuracy: 0.9094\n",
            "Epoch 20/100\n",
            "491/491 [==============================] - 2s 4ms/step - loss: 0.3665 - accuracy: 0.9012 - val_loss: 0.3988 - val_accuracy: 0.9094\n",
            "Epoch 21/100\n",
            "491/491 [==============================] - 2s 4ms/step - loss: 0.3657 - accuracy: 0.9053 - val_loss: 0.3947 - val_accuracy: 0.9175\n",
            "Epoch 22/100\n",
            "491/491 [==============================] - 2s 3ms/step - loss: 0.3622 - accuracy: 0.9086 - val_loss: 0.3965 - val_accuracy: 0.9134\n",
            "Epoch 23/100\n",
            "491/491 [==============================] - 2s 3ms/step - loss: 0.3671 - accuracy: 0.9030 - val_loss: 0.3939 - val_accuracy: 0.9165\n",
            "Epoch 24/100\n",
            "491/491 [==============================] - 2s 4ms/step - loss: 0.3580 - accuracy: 0.9104 - val_loss: 0.3874 - val_accuracy: 0.9226\n",
            "Epoch 25/100\n",
            "491/491 [==============================] - 2s 4ms/step - loss: 0.3578 - accuracy: 0.9099 - val_loss: 0.3940 - val_accuracy: 0.9175\n",
            "Epoch 26/100\n",
            "491/491 [==============================] - 2s 4ms/step - loss: 0.3511 - accuracy: 0.9195 - val_loss: 0.3804 - val_accuracy: 0.9257\n",
            "Epoch 27/100\n",
            "491/491 [==============================] - 2s 3ms/step - loss: 0.3556 - accuracy: 0.9170 - val_loss: 0.3868 - val_accuracy: 0.9226\n",
            "Epoch 28/100\n",
            "491/491 [==============================] - 2s 3ms/step - loss: 0.3507 - accuracy: 0.9190 - val_loss: 0.3859 - val_accuracy: 0.9236\n",
            "Epoch 29/100\n",
            "491/491 [==============================] - 2s 4ms/step - loss: 0.3438 - accuracy: 0.9185 - val_loss: 0.3740 - val_accuracy: 0.9287\n",
            "Epoch 30/100\n",
            "491/491 [==============================] - 2s 3ms/step - loss: 0.3448 - accuracy: 0.9177 - val_loss: 0.3852 - val_accuracy: 0.9185\n",
            "Epoch 31/100\n",
            "491/491 [==============================] - 2s 4ms/step - loss: 0.3454 - accuracy: 0.9149 - val_loss: 0.3771 - val_accuracy: 0.9318\n",
            "Epoch 32/100\n",
            "491/491 [==============================] - 2s 3ms/step - loss: 0.3385 - accuracy: 0.9223 - val_loss: 0.3690 - val_accuracy: 0.9328\n",
            "Epoch 33/100\n",
            "491/491 [==============================] - 2s 3ms/step - loss: 0.3455 - accuracy: 0.9167 - val_loss: 0.3681 - val_accuracy: 0.9318\n",
            "Epoch 34/100\n",
            "491/491 [==============================] - 2s 4ms/step - loss: 0.3424 - accuracy: 0.9129 - val_loss: 0.3733 - val_accuracy: 0.9338\n",
            "Epoch 35/100\n",
            "491/491 [==============================] - 2s 4ms/step - loss: 0.3381 - accuracy: 0.9226 - val_loss: 0.3648 - val_accuracy: 0.9358\n",
            "Epoch 36/100\n",
            "491/491 [==============================] - 2s 4ms/step - loss: 0.3377 - accuracy: 0.9211 - val_loss: 0.3651 - val_accuracy: 0.9338\n",
            "Epoch 37/100\n",
            "491/491 [==============================] - 2s 4ms/step - loss: 0.3349 - accuracy: 0.9218 - val_loss: 0.3634 - val_accuracy: 0.9369\n",
            "Epoch 38/100\n",
            "491/491 [==============================] - 2s 4ms/step - loss: 0.3329 - accuracy: 0.9246 - val_loss: 0.3611 - val_accuracy: 0.9389\n",
            "Epoch 39/100\n",
            "491/491 [==============================] - 2s 4ms/step - loss: 0.3274 - accuracy: 0.9259 - val_loss: 0.3573 - val_accuracy: 0.9338\n",
            "Epoch 40/100\n",
            "491/491 [==============================] - 2s 4ms/step - loss: 0.3350 - accuracy: 0.9259 - val_loss: 0.3593 - val_accuracy: 0.9379\n",
            "Epoch 41/100\n",
            "491/491 [==============================] - 2s 4ms/step - loss: 0.3224 - accuracy: 0.9292 - val_loss: 0.3557 - val_accuracy: 0.9389\n",
            "Epoch 42/100\n",
            "491/491 [==============================] - 2s 4ms/step - loss: 0.3299 - accuracy: 0.9267 - val_loss: 0.3557 - val_accuracy: 0.9379\n",
            "Epoch 43/100\n",
            "491/491 [==============================] - 2s 4ms/step - loss: 0.3239 - accuracy: 0.9228 - val_loss: 0.3540 - val_accuracy: 0.9409\n",
            "Epoch 44/100\n",
            "491/491 [==============================] - 2s 4ms/step - loss: 0.3196 - accuracy: 0.9290 - val_loss: 0.3502 - val_accuracy: 0.9389\n",
            "Epoch 45/100\n",
            "491/491 [==============================] - 2s 4ms/step - loss: 0.3242 - accuracy: 0.9279 - val_loss: 0.3467 - val_accuracy: 0.9389\n",
            "Epoch 46/100\n",
            "491/491 [==============================] - 2s 4ms/step - loss: 0.3159 - accuracy: 0.9295 - val_loss: 0.3408 - val_accuracy: 0.9420\n",
            "Epoch 47/100\n",
            "491/491 [==============================] - 2s 4ms/step - loss: 0.3231 - accuracy: 0.9300 - val_loss: 0.3439 - val_accuracy: 0.9420\n",
            "Epoch 48/100\n",
            "491/491 [==============================] - 2s 4ms/step - loss: 0.3205 - accuracy: 0.9236 - val_loss: 0.3378 - val_accuracy: 0.9399\n",
            "Epoch 49/100\n",
            "491/491 [==============================] - 2s 4ms/step - loss: 0.3175 - accuracy: 0.9307 - val_loss: 0.3361 - val_accuracy: 0.9420\n",
            "Epoch 50/100\n",
            "491/491 [==============================] - 2s 4ms/step - loss: 0.3171 - accuracy: 0.9356 - val_loss: 0.3337 - val_accuracy: 0.9440\n",
            "Epoch 51/100\n",
            "491/491 [==============================] - 2s 4ms/step - loss: 0.3118 - accuracy: 0.9343 - val_loss: 0.3304 - val_accuracy: 0.9430\n",
            "Epoch 52/100\n",
            "491/491 [==============================] - 2s 4ms/step - loss: 0.3121 - accuracy: 0.9310 - val_loss: 0.3339 - val_accuracy: 0.9430\n",
            "Epoch 53/100\n",
            "491/491 [==============================] - 2s 3ms/step - loss: 0.3145 - accuracy: 0.9330 - val_loss: 0.3352 - val_accuracy: 0.9420\n",
            "Epoch 54/100\n",
            "491/491 [==============================] - 2s 3ms/step - loss: 0.3078 - accuracy: 0.9386 - val_loss: 0.3289 - val_accuracy: 0.9430\n",
            "Epoch 55/100\n",
            "491/491 [==============================] - 2s 3ms/step - loss: 0.3050 - accuracy: 0.9384 - val_loss: 0.3270 - val_accuracy: 0.9450\n",
            "Epoch 56/100\n",
            "491/491 [==============================] - 4s 8ms/step - loss: 0.3050 - accuracy: 0.9335 - val_loss: 0.3248 - val_accuracy: 0.9430\n",
            "Epoch 57/100\n",
            "491/491 [==============================] - 5s 10ms/step - loss: 0.3017 - accuracy: 0.9419 - val_loss: 0.3287 - val_accuracy: 0.9440\n",
            "Epoch 58/100\n",
            "491/491 [==============================] - 4s 8ms/step - loss: 0.3012 - accuracy: 0.9366 - val_loss: 0.3195 - val_accuracy: 0.9440\n",
            "Epoch 59/100\n",
            "491/491 [==============================] - 4s 9ms/step - loss: 0.3069 - accuracy: 0.9376 - val_loss: 0.3208 - val_accuracy: 0.9440\n",
            "Epoch 60/100\n",
            "491/491 [==============================] - 2s 4ms/step - loss: 0.2992 - accuracy: 0.9402 - val_loss: 0.3211 - val_accuracy: 0.9430\n",
            "Epoch 61/100\n",
            "491/491 [==============================] - 2s 4ms/step - loss: 0.2991 - accuracy: 0.9384 - val_loss: 0.3186 - val_accuracy: 0.9430\n",
            "Epoch 62/100\n",
            "491/491 [==============================] - 2s 4ms/step - loss: 0.2940 - accuracy: 0.9419 - val_loss: 0.3178 - val_accuracy: 0.9440\n",
            "Epoch 63/100\n",
            "491/491 [==============================] - 2s 3ms/step - loss: 0.2937 - accuracy: 0.9414 - val_loss: 0.3117 - val_accuracy: 0.9440\n",
            "Epoch 64/100\n",
            "491/491 [==============================] - 2s 3ms/step - loss: 0.2957 - accuracy: 0.9409 - val_loss: 0.3131 - val_accuracy: 0.9450\n",
            "Epoch 65/100\n",
            "491/491 [==============================] - 2s 3ms/step - loss: 0.2915 - accuracy: 0.9432 - val_loss: 0.3066 - val_accuracy: 0.9440\n",
            "Epoch 66/100\n",
            "491/491 [==============================] - 2s 3ms/step - loss: 0.2936 - accuracy: 0.9396 - val_loss: 0.3104 - val_accuracy: 0.9450\n",
            "Epoch 67/100\n",
            "491/491 [==============================] - 2s 3ms/step - loss: 0.2886 - accuracy: 0.9430 - val_loss: 0.3106 - val_accuracy: 0.9450\n",
            "Epoch 68/100\n",
            "491/491 [==============================] - 2s 3ms/step - loss: 0.2914 - accuracy: 0.9414 - val_loss: 0.3107 - val_accuracy: 0.9450\n",
            "Epoch 69/100\n",
            "491/491 [==============================] - 2s 3ms/step - loss: 0.2881 - accuracy: 0.9412 - val_loss: 0.3039 - val_accuracy: 0.9440\n",
            "Epoch 70/100\n",
            "491/491 [==============================] - 2s 3ms/step - loss: 0.2878 - accuracy: 0.9437 - val_loss: 0.3038 - val_accuracy: 0.9440\n",
            "Epoch 71/100\n",
            "491/491 [==============================] - 2s 3ms/step - loss: 0.2915 - accuracy: 0.9417 - val_loss: 0.3043 - val_accuracy: 0.9450\n",
            "Epoch 72/100\n",
            "491/491 [==============================] - 2s 4ms/step - loss: 0.2873 - accuracy: 0.9435 - val_loss: 0.2997 - val_accuracy: 0.9450\n",
            "Epoch 73/100\n",
            "491/491 [==============================] - 2s 3ms/step - loss: 0.2812 - accuracy: 0.9450 - val_loss: 0.3024 - val_accuracy: 0.9440\n",
            "Epoch 74/100\n",
            "491/491 [==============================] - 2s 3ms/step - loss: 0.2823 - accuracy: 0.9458 - val_loss: 0.2966 - val_accuracy: 0.9450\n",
            "Epoch 75/100\n",
            "491/491 [==============================] - 2s 3ms/step - loss: 0.2729 - accuracy: 0.9463 - val_loss: 0.2947 - val_accuracy: 0.9450\n",
            "Epoch 76/100\n",
            "491/491 [==============================] - 2s 4ms/step - loss: 0.2805 - accuracy: 0.9453 - val_loss: 0.2958 - val_accuracy: 0.9450\n",
            "Epoch 77/100\n",
            "491/491 [==============================] - 2s 4ms/step - loss: 0.2775 - accuracy: 0.9424 - val_loss: 0.2927 - val_accuracy: 0.9450\n",
            "Epoch 78/100\n",
            "491/491 [==============================] - 2s 4ms/step - loss: 0.2712 - accuracy: 0.9478 - val_loss: 0.2926 - val_accuracy: 0.9450\n",
            "Epoch 79/100\n",
            "491/491 [==============================] - 2s 4ms/step - loss: 0.2767 - accuracy: 0.9450 - val_loss: 0.2944 - val_accuracy: 0.9450\n",
            "Epoch 80/100\n",
            "491/491 [==============================] - 2s 4ms/step - loss: 0.2749 - accuracy: 0.9470 - val_loss: 0.2916 - val_accuracy: 0.9450\n",
            "Epoch 81/100\n",
            "491/491 [==============================] - 2s 4ms/step - loss: 0.2719 - accuracy: 0.9468 - val_loss: 0.2899 - val_accuracy: 0.9450\n",
            "Epoch 82/100\n",
            "491/491 [==============================] - 2s 4ms/step - loss: 0.2706 - accuracy: 0.9465 - val_loss: 0.2861 - val_accuracy: 0.9450\n",
            "Epoch 83/100\n",
            "491/491 [==============================] - 2s 4ms/step - loss: 0.2758 - accuracy: 0.9440 - val_loss: 0.2851 - val_accuracy: 0.9450\n",
            "Epoch 84/100\n",
            "491/491 [==============================] - 2s 4ms/step - loss: 0.2721 - accuracy: 0.9453 - val_loss: 0.2849 - val_accuracy: 0.9450\n",
            "Epoch 85/100\n",
            "491/491 [==============================] - 2s 4ms/step - loss: 0.2717 - accuracy: 0.9475 - val_loss: 0.2798 - val_accuracy: 0.9450\n",
            "Epoch 86/100\n",
            "491/491 [==============================] - 2s 4ms/step - loss: 0.2700 - accuracy: 0.9501 - val_loss: 0.2770 - val_accuracy: 0.9450\n",
            "Epoch 87/100\n",
            "491/491 [==============================] - 2s 4ms/step - loss: 0.2657 - accuracy: 0.9465 - val_loss: 0.2811 - val_accuracy: 0.9450\n",
            "Epoch 88/100\n",
            "491/491 [==============================] - 2s 4ms/step - loss: 0.2622 - accuracy: 0.9488 - val_loss: 0.2756 - val_accuracy: 0.9450\n",
            "Epoch 89/100\n",
            "491/491 [==============================] - 2s 4ms/step - loss: 0.2644 - accuracy: 0.9516 - val_loss: 0.2786 - val_accuracy: 0.9450\n",
            "Epoch 90/100\n",
            "491/491 [==============================] - 2s 4ms/step - loss: 0.2612 - accuracy: 0.9496 - val_loss: 0.2751 - val_accuracy: 0.9450\n",
            "Epoch 91/100\n",
            "491/491 [==============================] - 2s 4ms/step - loss: 0.2645 - accuracy: 0.9486 - val_loss: 0.2753 - val_accuracy: 0.9450\n",
            "Epoch 92/100\n",
            "491/491 [==============================] - 2s 4ms/step - loss: 0.2590 - accuracy: 0.9493 - val_loss: 0.2751 - val_accuracy: 0.9460\n",
            "Epoch 93/100\n",
            "491/491 [==============================] - 2s 4ms/step - loss: 0.2551 - accuracy: 0.9493 - val_loss: 0.2733 - val_accuracy: 0.9450\n",
            "Epoch 94/100\n",
            "491/491 [==============================] - 2s 4ms/step - loss: 0.2587 - accuracy: 0.9496 - val_loss: 0.2733 - val_accuracy: 0.9450\n",
            "Epoch 95/100\n",
            "491/491 [==============================] - 2s 4ms/step - loss: 0.2592 - accuracy: 0.9516 - val_loss: 0.2703 - val_accuracy: 0.9450\n",
            "Epoch 96/100\n",
            "491/491 [==============================] - 2s 4ms/step - loss: 0.2591 - accuracy: 0.9468 - val_loss: 0.2666 - val_accuracy: 0.9450\n",
            "Epoch 97/100\n",
            "491/491 [==============================] - 2s 4ms/step - loss: 0.2557 - accuracy: 0.9511 - val_loss: 0.2668 - val_accuracy: 0.9450\n",
            "Epoch 98/100\n",
            "491/491 [==============================] - 2s 4ms/step - loss: 0.2542 - accuracy: 0.9519 - val_loss: 0.2639 - val_accuracy: 0.9460\n",
            "Epoch 99/100\n",
            "491/491 [==============================] - 2s 4ms/step - loss: 0.2502 - accuracy: 0.9514 - val_loss: 0.2630 - val_accuracy: 0.9460\n",
            "Epoch 100/100\n",
            "491/491 [==============================] - 2s 4ms/step - loss: 0.2590 - accuracy: 0.9511 - val_loss: 0.2607 - val_accuracy: 0.9460\n"
          ]
        },
        {
          "output_type": "display_data",
          "data": {
            "text/plain": [
              "<Figure size 432x288 with 1 Axes>"
            ],
            "image/png": "[encoded data removed]"
          },
          "metadata": {
            "needs_background": "light"
          }
        }
      ],
      "source": [
        "history = ann_no_smote.fit(X_train, y_train, epochs=100, batch_size=8, validation_data=(X_test,y_test))\n",
        "plt.plot(history.history['accuracy'])\n",
        "plt.plot(history.history['val_accuracy'])\n",
        "plt.title('model accuracy (No SMOTE)')\n",
        "plt.ylabel('accuracy')\n",
        "plt.xlabel('epoch')\n",
        "plt.legend(['train', 'val_acc'], loc='upper left')\n",
        "plt.show()"
      ]
    },
    {
      "cell_type": "markdown",
      "metadata": {
        "id": "TdUz7tC2uYX2"
      },
      "source": [
        "# **XGBOOST**"
      ]
    },
    {
      "cell_type": "code",
      "execution_count": null,
      "metadata": {
        "colab": {
          "base_uri": "https://localhost:8080/"
        },
        "id": "zi52MvDrd29R",
        "outputId": "e08e5095-da89-4017-f73b-8e4b316f33ca"
      },
      "outputs": [
        {
          "output_type": "execute_result",
          "data": {
            "text/plain": [
              "XGBClassifier(eval_metric='mlogloss')"
            ]
          },
          "metadata": {},
          "execution_count": 13
        }
      ],
      "source": [
        "xgb_smote = XGBClassifier(learning_rate=0.1,objective='binary:logistic', eval_metric='mlogloss')\n",
        "xgb_no_smote = XGBClassifier(learning_rate=0.1,objective='binary:logistic', eval_metric='mlogloss')\n",
        "xgb_smote.fit(X, y)\n",
        "xgb_no_smote.fit(X_train, y_train)"
      ]
    },
    {
      "cell_type": "markdown",
      "metadata": {
        "id": "i4AUYtUcudAV"
      },
      "source": [
        "# **RANDOM FOREST**"
      ]
    },
    {
      "cell_type": "code",
      "execution_count": null,
      "metadata": {
        "colab": {
          "base_uri": "https://localhost:8080/"
        },
        "id": "hXEocerheyX7",
        "outputId": "9042465f-1da5-46fc-cd0c-ec69e0d25f17"
      },
      "outputs": [
        {
          "output_type": "execute_result",
          "data": {
            "text/plain": [
              "RandomForestClassifier(max_depth=50, random_state=0)"
            ]
          },
          "metadata": {},
          "execution_count": 14
        }
      ],
      "source": [
        "rf_smote = RandomForestClassifier(max_depth=50, random_state=0)\n",
        "rf_no_smote = RandomForestClassifier(max_depth=50, random_state=0)\n",
        "rf_smote.fit(X, y)\n",
        "rf_no_smote.fit(X_train, y_train)"
      ]
    },
    {
      "cell_type": "markdown",
      "metadata": {
        "id": "wmzzKg6lufjM"
      },
      "source": [
        "# **LOGISTIC REGRESSION**"
      ]
    },
    {
      "cell_type": "code",
      "execution_count": null,
      "metadata": {
        "colab": {
          "base_uri": "https://localhost:8080/"
        },
        "id": "3Qx7V3x0uh2g",
        "outputId": "528ceb97-bf1f-4537-8f1d-a8c6373ca192"
      },
      "outputs": [
        {
          "output_type": "stream",
          "name": "stderr",
          "text": [
            "/usr/local/lib/python3.7/dist-packages/sklearn/linear_model/_logistic.py:818: ConvergenceWarning: lbfgs failed to converge (status=1):\n",
            "STOP: TOTAL NO. of ITERATIONS REACHED LIMIT.\n",
            "\n",
            "Increase the number of iterations (max_iter) or scale the data as shown in:\n",
            "    https://scikit-learn.org/stable/modules/preprocessing.html\n",
            "Please also refer to the documentation for alternative solver options:\n",
            "    https://scikit-learn.org/stable/modules/linear_model.html#logistic-regression\n",
            "  extra_warning_msg=_LOGISTIC_SOLVER_CONVERGENCE_MSG,\n",
            "/usr/local/lib/python3.7/dist-packages/sklearn/linear_model/_logistic.py:818: ConvergenceWarning: lbfgs failed to converge (status=1):\n",
            "STOP: TOTAL NO. of ITERATIONS REACHED LIMIT.\n",
            "\n",
            "Increase the number of iterations (max_iter) or scale the data as shown in:\n",
            "    https://scikit-learn.org/stable/modules/preprocessing.html\n",
            "Please also refer to the documentation for alternative solver options:\n",
            "    https://scikit-learn.org/stable/modules/linear_model.html#logistic-regression\n",
            "  extra_warning_msg=_LOGISTIC_SOLVER_CONVERGENCE_MSG,\n"
          ]
        },
        {
          "output_type": "execute_result",
          "data": {
            "text/plain": [
              "LogisticRegression()"
            ]
          },
          "metadata": {},
          "execution_count": 15
        }
      ],
      "source": [
        "lm_smote = LogisticRegression()\n",
        "lm_no_smote = LogisticRegression()\n",
        "lm_smote.fit(X, y)\n",
        "lm_no_smote.fit(X_train, y_train)"
      ]
    },
    {
      "cell_type": "code",
      "execution_count": null,
      "metadata": {
        "colab": {
          "base_uri": "https://localhost:8080/",
          "height": 1000
        },
        "id": "eFj0WCsket3W",
        "outputId": "17fa653c-8a40-4efc-8c29-a75f1133ca55"
      },
      "outputs": [
        {
          "output_type": "stream",
          "name": "stdout",
          "text": [
            "Artificial Neural Network (SMOTE)\n",
            "----------------------------------------\n",
            "Prediction Accuracy: 0.8054989816700611\n",
            "F1 Score           : 0.8879765395894428\n"
          ]
        },
        {
          "output_type": "display_data",
          "data": {
            "text/plain": [
              "<Figure size 432x288 with 2 Axes>"
            ],
            "image/png": "[encoded data removed]"
          },
          "metadata": {
            "needs_background": "light"
          }
        },
        {
          "output_type": "stream",
          "name": "stdout",
          "text": [
            "\n",
            "Artificial Neural Network (No SMOTE)\n",
            "----------------------------------------\n",
            "Prediction Accuracy: 0.9460285132382892\n",
            "F1 Score           : 0.9722658294086866\n"
          ]
        },
        {
          "output_type": "display_data",
          "data": {
            "text/plain": [
              "<Figure size 432x288 with 2 Axes>"
            ],
            "image/png": "[encoded data removed]"
          },
          "metadata": {
            "needs_background": "light"
          }
        },
        {
          "output_type": "stream",
          "name": "stdout",
          "text": [
            "\n",
            "XGBoost (SMOTE)\n",
            "----------------------------------------\n",
            "Prediction Accuracy: 0.9307535641547862\n",
            "F1 Score           : 0.9641350210970464\n"
          ]
        },
        {
          "output_type": "display_data",
          "data": {
            "text/plain": [
              "<Figure size 432x288 with 2 Axes>"
            ],
            "image/png": "[encoded data removed]"
          },
          "metadata": {
            "needs_background": "light"
          }
        },
        {
          "output_type": "stream",
          "name": "stdout",
          "text": [
            "\n",
            "XGBoost (No SMOTE)\n",
            "----------------------------------------\n",
            "Prediction Accuracy: 0.9460285132382892\n",
            "F1 Score           : 0.9722658294086866\n"
          ]
        },
        {
          "output_type": "display_data",
          "data": {
            "text/plain": [
              "<Figure size 432x288 with 2 Axes>"
            ],
            "image/png": "[encoded data removed]"
          },
          "metadata": {
            "needs_background": "light"
          }
        },
        {
          "output_type": "stream",
          "name": "stdout",
          "text": [
            "\n",
            "Random Forest (SMOTE)\n",
            "----------------------------------------\n",
            "Prediction Accuracy: 0.9409368635437881\n",
            "F1 Score           : 0.9695697796432319\n"
          ]
        },
        {
          "output_type": "display_data",
          "data": {
            "text/plain": [
              "<Figure size 432x288 with 2 Axes>"
            ],
            "image/png": "[encoded data removed]"
          },
          "metadata": {
            "needs_background": "light"
          }
        },
        {
          "output_type": "stream",
          "name": "stdout",
          "text": [
            "\n",
            "Random Forest (No SMOTE)\n",
            "----------------------------------------\n",
            "Prediction Accuracy: 0.9460285132382892\n",
            "F1 Score           : 0.9722658294086866\n"
          ]
        },
        {
          "output_type": "display_data",
          "data": {
            "text/plain": [
              "<Figure size 432x288 with 2 Axes>"
            ],
            "image/png": "[encoded data removed]"
          },
          "metadata": {
            "needs_background": "light"
          }
        },
        {
          "output_type": "stream",
          "name": "stdout",
          "text": [
            "\n",
            "Logistic Regression (SMOTE)\n",
            "----------------------------------------\n",
            "Prediction Accuracy: 0.9307535641547862\n",
            "F1 Score           : 0.9639065817409767\n"
          ]
        },
        {
          "output_type": "display_data",
          "data": {
            "text/plain": [
              "<Figure size 432x288 with 2 Axes>"
            ],
            "image/png": "[encoded data removed]"
          },
          "metadata": {
            "needs_background": "light"
          }
        },
        {
          "output_type": "stream",
          "name": "stdout",
          "text": [
            "\n",
            "Logistic Regression (No SMOTE)\n",
            "----------------------------------------\n",
            "Prediction Accuracy: 0.9460285132382892\n",
            "F1 Score           : 0.9722658294086866\n"
          ]
        },
        {
          "output_type": "display_data",
          "data": {
            "text/plain": [
              "<Figure size 432x288 with 2 Axes>"
            ],
            "image/png": "[encoded data removed]"
          },
          "metadata": {
            "needs_background": "light"
          }
        },
        {
          "output_type": "stream",
          "name": "stdout",
          "text": [
            "\n",
            "Best Model: Artificial Neural Network (No SMOTE)\n",
            "Best F1   : 0.9722658294086866\n"
          ]
        }
      ],
      "source": [
        "models = [('Artificial Neural Network (SMOTE)', ann_smote), \n",
        "          ('Artificial Neural Network (No SMOTE)', ann_no_smote), \n",
        "          ('XGBoost (SMOTE)', xgb_smote),\n",
        "          ('XGBoost (No SMOTE)', xgb_no_smote),  \n",
        "          ('Random Forest (SMOTE)', rf_smote),\n",
        "          ('Random Forest (No SMOTE)', rf_no_smote),\n",
        "          ('Logistic Regression (SMOTE)', lm_smote),\n",
        "          ('Logistic Regression (No SMOTE)', lm_no_smote)]\n",
        "\n",
        "scores = {}\n",
        "best_model = ''\n",
        "best_score = 0\n",
        "for model in models:\n",
        "    scores[model[0]] = []\n",
        "    \n",
        "    preds = model[1].predict(X_test).round()\n",
        "    scores[model[0]].append(pred_acc(y_test, preds))\n",
        "    scores[model[0]].append(f1_score(y_test, preds))\n",
        "\n",
        "    if scores[model[0]][1] > best_score:\n",
        "        best_score = scores[model[0]][1]\n",
        "        best_model = model[0]\n",
        "\n",
        "    print(model[0])\n",
        "    print('-'*40)\n",
        "    print('Prediction Accuracy:', scores[model[0]][0])\n",
        "    print('F1 Score           :', scores[model[0]][1])\n",
        "    plot_confusion_matrix(y_test, preds)\n",
        "    print()\n",
        "\n",
        "print('Best Model:', best_model)\n",
        "print('Best F1   :', best_score)"
      ]
    },
    {
      "cell_type": "code",
      "execution_count": null,
      "metadata": {
        "id": "pdFe95uTkO4f"
      },
      "outputs": [],
      "source": [
        "def catplot_with_percentage(factors, cats, title, *args):\n",
        "    df_catplot = {'Factor': factors}\n",
        "\n",
        "    offset = min(list(map(lambda x:min(x), args))) * 0.9\n",
        "    for i in range(len(cats)):\n",
        "        for j in range(len(factors)):\n",
        "            args[i][j] -= offset\n",
        "        df_catplot[cats[i]] = args[i]\n",
        "\n",
        "    df_catplot = pd.DataFrame(df_catplot)\n",
        "\n",
        "    fig = plt.figure(figsize=(len(factors)*2,9))\n",
        "    catplot_smoke = df_catplot.melt(id_vars='Factor').rename(columns=str.title)\n",
        "    sb.barplot(x='Factor', y='Value', hue='Variable', data=catplot_smoke, bottom=offset).set_title(title)\n",
        "    plt.show()"
      ]
    },
    {
      "cell_type": "code",
      "execution_count": null,
      "metadata": {
        "colab": {
          "base_uri": "https://localhost:8080/",
          "height": 567
        },
        "id": "b1XwlXdIntug",
        "outputId": "24ffa666-e782-47b5-e669-33e132162e6a"
      },
      "outputs": [
        {
          "output_type": "display_data",
          "data": {
            "text/plain": [
              "<Figure size 1152x648 with 1 Axes>"
            ],
            "image/png": "[encoded data removed]"
          },
          "metadata": {
            "needs_background": "light"
          }
        }
      ],
      "source": [
        "catplot_with_percentage(['ANN (SMOTE)', 'ANN (No SMOTE)', 'XGB (SMOTE)', 'XGB (No SMOTE)', 'RF (SMOTE)', 'RF (No SMOTE)', 'LR (SMOTE)', 'LR (No SMOTE)'], \n",
        "                        ['Pred Acc', 'F1 Score'],\n",
        "                        'Model Comparison',\n",
        "                        [scores['Artificial Neural Network (SMOTE)'][0],\n",
        "                         scores['Artificial Neural Network (No SMOTE)'][0],\n",
        "                         scores['XGBoost (SMOTE)'][0],\n",
        "                         scores['XGBoost (No SMOTE)'][0],\n",
        "                         scores['Random Forest (SMOTE)'][0],\n",
        "                         scores['Random Forest (No SMOTE)'][0],\n",
        "                         scores['Logistic Regression (SMOTE)'][0],\n",
        "                         scores['Logistic Regression (No SMOTE)'][0]],\n",
        "                        [scores['Artificial Neural Network (SMOTE)'][1],\n",
        "                         scores['Artificial Neural Network (No SMOTE)'][1],\n",
        "                         scores['XGBoost (SMOTE)'][1],\n",
        "                         scores['XGBoost (No SMOTE)'][1],\n",
        "                         scores['Random Forest (SMOTE)'][1],\n",
        "                         scores['Random Forest (No SMOTE)'][1],\n",
        "                         scores['Logistic Regression (SMOTE)'][1],\n",
        "                         scores['Logistic Regression (No SMOTE)'][1]]\n",
        "                        )"
      ]
    },
    {
      "cell_type": "code",
      "execution_count": null,
      "metadata": {
        "colab": {
          "base_uri": "https://localhost:8080/"
        },
        "id": "CCUxKVYsd0YL",
        "outputId": "2e29353b-3a48-4a49-a70e-cd65fe8ad666"
      },
      "outputs": [
        {
          "output_type": "stream",
          "name": "stdout",
          "text": [
            "+----------+---------------------+---------------+------+---------+\n",
            "|          | Logistic Regression | Random Forest | ANN  | XGBoost |\n",
            "+----------+---------------------+---------------+------+---------+\n",
            "| Accuracy |                0.93 |          0.94 | 0.81 |    0.93 |\n",
            "| F1 Score |                0.96 |          0.97 | 0.89 |    0.96 |\n",
            "+----------+---------------------+---------------+------+---------+\n"
          ]
        }
      ],
      "source": [
        "print('+----------+---------------------+---------------+------+---------+')\n",
        "print('|          | Logistic Regression | Random Forest | ANN  | XGBoost |')\n",
        "print('+----------+---------------------+---------------+------+---------+')\n",
        "print('| Accuracy | {:19.2f} | {:13.2f} | {:4.2f} | {:7.2f} |'.format(scores['Logistic Regression (SMOTE)'][0],\n",
        "                                                                      scores['Random Forest (SMOTE)'][0],\n",
        "                                                                      scores['Artificial Neural Network (SMOTE)'][0],\n",
        "                                                                      scores['XGBoost (SMOTE)'][0]))\n",
        "print('| F1 Score | {:19.2f} | {:13.2f} | {:4.2f} | {:7.2f} |'.format(scores['Logistic Regression (SMOTE)'][1],\n",
        "                                                                      scores['Random Forest (SMOTE)'][1],\n",
        "                                                                      scores['Artificial Neural Network (SMOTE)'][1],\n",
        "                                                                      scores['XGBoost (SMOTE)'][1]))\n",
        "\n",
        "print('+----------+---------------------+---------------+------+---------+')"
      ]
    },
    {
      "cell_type": "markdown",
      "metadata": {
        "id": "ugjdZAV_yxZV"
      },
      "source": [
        "**Analysis:**\n",
        "\n",
        "Generally, models that train on \"No SMOTE\" (or original data), perform better than models that train on \"SMOTE\" data. This is probably because the dataset is highly unbalanced (~95% no stroke, ~5% stroke). Hence, the models that train on \"No SMOTE\" tend to predict 0 for all test data, achieving a high accuracy of ~0.95. This can be seen from the confusion matrix.\n",
        "\n",
        "\n",
        "However, this also means that the models that train on \"No SMOTE\" have zero predictive ability and accuracy is not a good metric for us. Therefore, we employed SMOTE to overcome theimbalanced data, putting more weight to the smaller class (stroke) and making the model biased to 'stroke' class. Hence, even if models training on \"SMOTE\" has lower prediction accuracy, they are better models for prediction of actual stroke cases.\n",
        "\n",
        "\n",
        "Overall, we found that the Random Forest model is the best model out of our 4 selected models with the highest prediction accuracy and F1 score:\n",
        "\n",
        "1) Artificial Neural Network\n",
        "\n",
        "2) XGBoost \n",
        "\n",
        "3) Random Forest (Pred acc: 0.9409, F1: 0.9695)\n",
        "\n",
        "4) Logistic Regression"
      ]
    }
  ],
  "metadata": {
    "colab": {
      "collapsed_sections": [],
      "name": "Machine Learning Models",
      "provenance": []
    },
    "kernelspec": {
      "display_name": "Python 3",
      "name": "python3"
    },
    "language_info": {
      "name": "python"
    }
  },
  "nbformat": 4,
  "nbformat_minor": 0
}